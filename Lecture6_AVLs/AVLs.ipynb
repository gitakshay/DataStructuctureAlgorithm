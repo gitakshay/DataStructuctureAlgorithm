{
 "cells": [
  {
   "cell_type": "code",
   "execution_count": 170,
   "metadata": {},
   "outputs": [],
   "source": [
    "class BstNode:\n",
    "    \n",
    "    def __init__(self,key,parent=None,left_child=None,right_child=None):\n",
    "        self.key=key\n",
    "        self.parent = parent\n",
    "        self.left_child = left_child\n",
    "        self.right_child = right_child\n",
    "    def __repr__(self):\n",
    "        show = f\"KEY : {self.key} \"\n",
    "        if self.parent:\n",
    "            show+=f\"  PARENT: {self.parent.key}\"\n",
    "        if self.left_child:\n",
    "            show+=f\"  LEFT CHILD: {self.left_child.key}\"\n",
    "        if self.right_child:\n",
    "            show+=f\"  RIGHT CHILD: {self.right_child.key}\"\n",
    "        \n",
    "        \n",
    "        return show\n",
    "    \n",
    "    def next_larger(self):\n",
    "        \"\"\"Returns the node with the next larger key (the successor) in the BST.\n",
    "        \"\"\"\n",
    "        if self.right_child is not None:\n",
    "            return self.right_child.find_min()\n",
    "        current = self\n",
    "        # if you are on the right to someone and dont have any children, you will be the largest \n",
    "        # unless your ancestor were left to someone , then you can never be bigger then ancestor's parent\n",
    "        while current.parent is not None and current is current.parent.right_child:\n",
    "            current = current.parent\n",
    "        return current.parent\n",
    "    \n",
    "    def find(self, element):\n",
    "        if self.key == element:\n",
    "            return self\n",
    "        elif element > self.key:\n",
    "            if self.right_child:\n",
    "                return self.right_child.find(element)\n",
    "            else:\n",
    "                return\n",
    "        else :\n",
    "            if self.left_child:\n",
    "                return self.left_child.find(element)\n",
    "            else:\n",
    "                return\n",
    "\n",
    "    def find_max(self):\n",
    "        if self.right_child:\n",
    "            return self.right_child.find_max()\n",
    "        else:\n",
    "            return self\n",
    "    \n",
    "    def find_min(self):\n",
    "        if self.left_child:\n",
    "            return self.left_child.find_min()\n",
    "        else:\n",
    "            return self\n",
    "    \n",
    "    def insert(self, node):\n",
    "        if node.key > self.key:\n",
    "            if self.right_child:\n",
    "                self.right_child.insert(node)\n",
    "            else:\n",
    "                node.parent = self\n",
    "                self.right_child = node\n",
    "        elif node.key < self.key:\n",
    "            if self.left_child:\n",
    "                self.left_child.insert(node)\n",
    "            else:\n",
    "                node.parent = self\n",
    "                self.left_child = node\n",
    "        else:\n",
    "            raise Exception(\"Bst Invariance rule violated!!\")\n",
    "    \n",
    "    def delete(self):\n",
    "        \"\"\"\n",
    "        if v is a leaf\n",
    "\n",
    "          delete leaf v\n",
    "\n",
    "        else if v has 1 child\n",
    "\n",
    "          bypass v\n",
    "\n",
    "        else replace v with successor\n",
    "        \"\"\"\n",
    "        if self.left_child is None or self.right_child is None:\n",
    "            #if self.parent is None:\n",
    "            #    self = self.left_child or self.right_child\n",
    "            #    self.parent = None\n",
    "            #    print(self.key)\n",
    "            #    return \"Deleted root\"\n",
    "            if self is self.parent.left_child:\n",
    "                self.parent.left_child = self.left_child or self.right_child\n",
    "                if self.parent.left_child is not None:\n",
    "                    self.parent.left_child.parent = self.parent\n",
    "            else:\n",
    "                self.parent.right_child = self.left_child or self.right_child\n",
    "                if self.parent.right_child is not None:\n",
    "                    self.parent.right_child.parent = self.parent\n",
    "            return self\n",
    "        else:\n",
    "            s = self.next_larger()\n",
    "            s.key , self.key = self.key, s.key\n",
    "            return s.delete()\n",
    "    \n",
    "    def check_ri(self):\n",
    "    \n",
    "        if self.left_child:\n",
    "            if self.left_child.key > self.key:\n",
    "                raise Exception(\"BST ri violated\")\n",
    "            else:\n",
    "                self.left_child.check_ri()\n",
    "        if self.right_child:\n",
    "            if self.right_child.key < self.key:\n",
    "                raise Exception(\"BST ri violated\")\n",
    "            else:\n",
    "                self.right_child.check_ri()\n",
    "        else:\n",
    "            return\n",
    "        "
   ]
  },
  {
   "cell_type": "code",
   "execution_count": 171,
   "metadata": {},
   "outputs": [],
   "source": [
    "class Bst:\n",
    "    \n",
    "    def __init__(self):\n",
    "        self.root = None\n",
    "    def insert(self,element):\n",
    "        node = BstNode(element)\n",
    "        if self.root is None:\n",
    "            self.root = node\n",
    "        else:\n",
    "            self.root.insert(node)\n",
    "        return node\n",
    "    def find(self,element):\n",
    "        if self.root:\n",
    "            return self.root.find(element)\n",
    "    def find_min(self):\n",
    "        if self.root:\n",
    "            return self.root.find_min()\n",
    "    def find_max(self):\n",
    "        if self.root:\n",
    "            return self.root.find_max()\n",
    "    def delete(self,element):\n",
    "        node = self.find(element)\n",
    "        if node is None:\n",
    "            return None\n",
    "        if node is self.root:\n",
    "            # This is done to deal with a special case for when the root has only one child.\n",
    "            # We create a pseudo node and attach the root to its left and attaches pseudo as root's parent.\n",
    "            # We then delete the root node. But since BST root's is still pointed at deleted root.\n",
    "            # But now the child of older root has become the new root, we no longer require this\n",
    "            # pseudo root.We detach it from the new root.\n",
    "            pseudonode = BstNode(0,None,self.root)\n",
    "            self.root.parent = pseudonode\n",
    "            deleted = self.root.delete()\n",
    "            self.root = pseudonode.left_child\n",
    "            if self.root is not None:\n",
    "                self.root.parent = None\n",
    "            return deleted\n",
    "        else:\n",
    "            return node.delete()\n",
    "    def check_ri(self):\n",
    "        if self.root:\n",
    "            self.root.check_ri()\n",
    "    "
   ]
  },
  {
   "cell_type": "code",
   "execution_count": 139,
   "metadata": {},
   "outputs": [],
   "source": [
    "n = Bst()"
   ]
  },
  {
   "cell_type": "code",
   "execution_count": 140,
   "metadata": {},
   "outputs": [
    {
     "name": "stdout",
     "output_type": "stream",
     "text": [
      "KEY : 20 \n",
      "KEY : 10   PARENT: 20\n",
      "KEY : 30   PARENT: 20\n",
      "KEY : 15   PARENT: 10\n",
      "KEY : 45   PARENT: 30\n"
     ]
    },
    {
     "data": {
      "text/plain": [
       "KEY : 45   PARENT: 30"
      ]
     },
     "execution_count": 140,
     "metadata": {},
     "output_type": "execute_result"
    }
   ],
   "source": [
    "n.insert(20)\n",
    "n.insert(10)\n",
    "n.insert(30)\n",
    "n.insert(15)\n",
    "n.insert(45)"
   ]
  },
  {
   "cell_type": "code",
   "execution_count": 141,
   "metadata": {},
   "outputs": [
    {
     "data": {
      "text/plain": [
       "KEY : 15   PARENT: 10"
      ]
     },
     "execution_count": 141,
     "metadata": {},
     "output_type": "execute_result"
    }
   ],
   "source": [
    "n.find(15)"
   ]
  },
  {
   "cell_type": "code",
   "execution_count": 142,
   "metadata": {},
   "outputs": [
    {
     "data": {
      "text/plain": [
       "KEY : 10   PARENT: 20  RIGHT CHILD: 15"
      ]
     },
     "execution_count": 142,
     "metadata": {},
     "output_type": "execute_result"
    }
   ],
   "source": [
    "n.find_min()"
   ]
  },
  {
   "cell_type": "code",
   "execution_count": 143,
   "metadata": {},
   "outputs": [
    {
     "data": {
      "text/plain": [
       "KEY : 45   PARENT: 30"
      ]
     },
     "execution_count": 143,
     "metadata": {},
     "output_type": "execute_result"
    }
   ],
   "source": [
    "n.find_max()"
   ]
  },
  {
   "cell_type": "code",
   "execution_count": 144,
   "metadata": {},
   "outputs": [
    {
     "name": "stdout",
     "output_type": "stream",
     "text": [
      "KEY : 30 \n",
      "KEY : 25   PARENT: 30\n",
      "KEY : 40   PARENT: 30\n",
      "KEY : 22   PARENT: 25\n",
      "KEY : 23   PARENT: 22\n",
      "KEY : 24   PARENT: 23\n"
     ]
    },
    {
     "data": {
      "text/plain": [
       "KEY : 24   PARENT: 23"
      ]
     },
     "execution_count": 144,
     "metadata": {},
     "output_type": "execute_result"
    }
   ],
   "source": [
    "n = Bst()\n",
    "\n",
    "n.insert(30)\n",
    "n.insert(25)\n",
    "n.insert(40)\n",
    "n.insert(22)\n",
    "n.insert(23)\n",
    "n.insert(24)"
   ]
  },
  {
   "cell_type": "code",
   "execution_count": 145,
   "metadata": {},
   "outputs": [],
   "source": [
    "n.root.left_child.key = 31"
   ]
  },
  {
   "cell_type": "code",
   "execution_count": 146,
   "metadata": {},
   "outputs": [
    {
     "ename": "Exception",
     "evalue": "BST ri violated",
     "output_type": "error",
     "traceback": [
      "\u001b[1;31m---------------------------------------------------------------------------\u001b[0m",
      "\u001b[1;31mException\u001b[0m                                 Traceback (most recent call last)",
      "\u001b[1;32m<ipython-input-146-3c05e66e5686>\u001b[0m in \u001b[0;36m<module>\u001b[1;34m\u001b[0m\n\u001b[1;32m----> 1\u001b[1;33m \u001b[0mn\u001b[0m\u001b[1;33m.\u001b[0m\u001b[0mcheck_ri\u001b[0m\u001b[1;33m(\u001b[0m\u001b[1;33m)\u001b[0m\u001b[1;33m\u001b[0m\u001b[1;33m\u001b[0m\u001b[0m\n\u001b[0m",
      "\u001b[1;32m<ipython-input-138-e564964dd071>\u001b[0m in \u001b[0;36mcheck_ri\u001b[1;34m(self)\u001b[0m\n\u001b[0;32m     40\u001b[0m     \u001b[1;32mdef\u001b[0m \u001b[0mcheck_ri\u001b[0m\u001b[1;33m(\u001b[0m\u001b[0mself\u001b[0m\u001b[1;33m)\u001b[0m\u001b[1;33m:\u001b[0m\u001b[1;33m\u001b[0m\u001b[1;33m\u001b[0m\u001b[0m\n\u001b[0;32m     41\u001b[0m         \u001b[1;32mif\u001b[0m \u001b[0mself\u001b[0m\u001b[1;33m.\u001b[0m\u001b[0mroot\u001b[0m\u001b[1;33m:\u001b[0m\u001b[1;33m\u001b[0m\u001b[1;33m\u001b[0m\u001b[0m\n\u001b[1;32m---> 42\u001b[1;33m             \u001b[0mself\u001b[0m\u001b[1;33m.\u001b[0m\u001b[0mroot\u001b[0m\u001b[1;33m.\u001b[0m\u001b[0mcheck_ri\u001b[0m\u001b[1;33m(\u001b[0m\u001b[1;33m)\u001b[0m\u001b[1;33m\u001b[0m\u001b[1;33m\u001b[0m\u001b[0m\n\u001b[0m\u001b[0;32m     43\u001b[0m \u001b[1;33m\u001b[0m\u001b[0m\n",
      "\u001b[1;32m<ipython-input-137-bfeee2cf16b0>\u001b[0m in \u001b[0;36mcheck_ri\u001b[1;34m(self)\u001b[0m\n\u001b[0;32m    108\u001b[0m         \u001b[1;32mif\u001b[0m \u001b[0mself\u001b[0m\u001b[1;33m.\u001b[0m\u001b[0mleft_child\u001b[0m\u001b[1;33m:\u001b[0m\u001b[1;33m\u001b[0m\u001b[1;33m\u001b[0m\u001b[0m\n\u001b[0;32m    109\u001b[0m             \u001b[1;32mif\u001b[0m \u001b[0mself\u001b[0m\u001b[1;33m.\u001b[0m\u001b[0mleft_child\u001b[0m\u001b[1;33m.\u001b[0m\u001b[0mkey\u001b[0m \u001b[1;33m>\u001b[0m \u001b[0mself\u001b[0m\u001b[1;33m.\u001b[0m\u001b[0mkey\u001b[0m\u001b[1;33m:\u001b[0m\u001b[1;33m\u001b[0m\u001b[1;33m\u001b[0m\u001b[0m\n\u001b[1;32m--> 110\u001b[1;33m                 \u001b[1;32mraise\u001b[0m \u001b[0mException\u001b[0m\u001b[1;33m(\u001b[0m\u001b[1;34m\"BST ri violated\"\u001b[0m\u001b[1;33m)\u001b[0m\u001b[1;33m\u001b[0m\u001b[1;33m\u001b[0m\u001b[0m\n\u001b[0m\u001b[0;32m    111\u001b[0m             \u001b[1;32melse\u001b[0m\u001b[1;33m:\u001b[0m\u001b[1;33m\u001b[0m\u001b[1;33m\u001b[0m\u001b[0m\n\u001b[0;32m    112\u001b[0m                 \u001b[0mself\u001b[0m\u001b[1;33m.\u001b[0m\u001b[0mleft_child\u001b[0m\u001b[1;33m.\u001b[0m\u001b[0mcheck_ri\u001b[0m\u001b[1;33m(\u001b[0m\u001b[1;33m)\u001b[0m\u001b[1;33m\u001b[0m\u001b[1;33m\u001b[0m\u001b[0m\n",
      "\u001b[1;31mException\u001b[0m: BST ri violated"
     ]
    }
   ],
   "source": [
    "n.check_ri()"
   ]
  },
  {
   "cell_type": "code",
   "execution_count": 184,
   "metadata": {},
   "outputs": [],
   "source": [
    "n = Bst()\n",
    "\n",
    "n.insert(30)\n",
    "n.insert(25)"
   ]
  },
  {
   "cell_type": "code",
   "execution_count": 12,
   "metadata": {},
   "outputs": [
    {
     "data": {
      "text/plain": [
       "KEY : 30   PARENT: 40"
      ]
     },
     "execution_count": 12,
     "metadata": {},
     "output_type": "execute_result"
    }
   ],
   "source": [
    "n.delete(30)"
   ]
  },
  {
   "cell_type": "code",
   "execution_count": 189,
   "metadata": {},
   "outputs": [],
   "source": [
    "def get_height(node):\n",
    "    if node is None:\n",
    "        return -1\n",
    "    else:\n",
    "        return node.height\n",
    "\n",
    "def update_height(node):\n",
    "    #print(f\"NODE RECIEVED : {node.key}\")\n",
    "    #if node.left_child:\n",
    "    #    print(f\"NODE LEFT CHILD : {node.left_child.key} NODE LEFT CHILD Height: {node.left_child.height} \")\n",
    "    #if node.right_child:\n",
    "    #    print(f\"NODE RIGHT CHILD : {node.right_child.key} NODE RIght CHILD Height: {node.right_child.height} \")\n",
    "    \n",
    "    node.height = max(get_height(node.left_child),get_height(node.right_child))+1\n",
    "    #print(\"Setting this node height to \",node.height)\n",
    "\n",
    "class AVL(Bst):\n",
    "    def right_rotate(self, node):\n",
    "        y =node.left_child\n",
    "        y.parent = node.parent\n",
    "        if y.parent is None:\n",
    "            self.root = y\n",
    "        else:\n",
    "            if y.parent.left_child is node:\n",
    "                y.parent.left_child = y\n",
    "            elif y.parent.right_child is node:\n",
    "                y.parent.right_child = y\n",
    "        node.left_child = y.right_child\n",
    "        if node.left_child is not None:\n",
    "            node.left_child.parent = node\n",
    "        \n",
    "        y.right_child = node\n",
    "        node.parent = y\n",
    "        \n",
    "        update_height(node)\n",
    "        update_height(y)\n",
    "    \n",
    "    def left_rotate(self, node):\n",
    "        y = node.right_child\n",
    "        y.parent = node.parent\n",
    "        \n",
    "        if node.parent is None:\n",
    "            self.root = y\n",
    "        else:\n",
    "            if node.parent.left_child is node:\n",
    "                node.parent.left_child = y\n",
    "            elif node.parent.right_child is node:\n",
    "                node.parent.right_child = y\n",
    "        \n",
    "        node.right_child = y.left_child\n",
    "        if node.right_child is not None:\n",
    "            node.right_child.parent = node\n",
    "        \n",
    "        y.left_child = node\n",
    "        node.parent = y\n",
    "        \n",
    "        update_height(node)\n",
    "        update_height(y)\n",
    "    \n",
    "    def rebalance(self,node):\n",
    "        while node is not None:\n",
    "            update_height(node)\n",
    "            if get_height(node.left_child)>=2+get_height(node.right_child):                \n",
    "                if get_height(node.left_child.left_child) >= get_height(node.left_child.right_child):\n",
    "                    self.right_rotate(node)\n",
    "                else:\n",
    "                    self.left_rotate(node.left_child)\n",
    "                    self.right_rotate(node)\n",
    "            elif get_height(node.right_child)>=2+get_height(node.left_child):\n",
    "                if get_height(node.right_child.right_child) >= get_height(node.right_child.left_child):\n",
    "                    self.left_rotate(node)\n",
    "                else:\n",
    "                    self.right_rotate(node.right_child)\n",
    "                    self.left_rotate(node)\n",
    "            node = node.parent\n",
    "    \n",
    "    def insert(self,element):\n",
    "        node = super().insert(element)\n",
    "        self.rebalance(node)\n",
    "        return node\n",
    "        \n",
    "    def __init__(self):\n",
    "        super().__init__()"
   ]
  },
  {
   "cell_type": "code",
   "execution_count": 190,
   "metadata": {},
   "outputs": [],
   "source": [
    "tree = AVL()"
   ]
  },
  {
   "cell_type": "code",
   "execution_count": 191,
   "metadata": {},
   "outputs": [
    {
     "data": {
      "text/plain": [
       "KEY : 1 "
      ]
     },
     "execution_count": 191,
     "metadata": {},
     "output_type": "execute_result"
    }
   ],
   "source": [
    "tree.insert(1)"
   ]
  },
  {
   "cell_type": "code",
   "execution_count": 192,
   "metadata": {},
   "outputs": [
    {
     "data": {
      "text/plain": [
       "KEY : 2   PARENT: 1"
      ]
     },
     "execution_count": 192,
     "metadata": {},
     "output_type": "execute_result"
    }
   ],
   "source": [
    "tree.insert(2)"
   ]
  },
  {
   "cell_type": "code",
   "execution_count": 193,
   "metadata": {},
   "outputs": [
    {
     "data": {
      "text/plain": [
       "KEY : 3   PARENT: 2"
      ]
     },
     "execution_count": 193,
     "metadata": {},
     "output_type": "execute_result"
    }
   ],
   "source": [
    "tree.insert(3)"
   ]
  },
  {
   "cell_type": "code",
   "execution_count": 199,
   "metadata": {},
   "outputs": [
    {
     "data": {
      "text/plain": [
       "KEY : 4   PARENT: 3"
      ]
     },
     "execution_count": 199,
     "metadata": {},
     "output_type": "execute_result"
    }
   ],
   "source": [
    "tree.insert(4)"
   ]
  },
  {
   "cell_type": "code",
   "execution_count": 200,
   "metadata": {},
   "outputs": [
    {
     "data": {
      "text/plain": [
       "KEY : 5   PARENT: 4"
      ]
     },
     "execution_count": 200,
     "metadata": {},
     "output_type": "execute_result"
    }
   ],
   "source": [
    "tree.insert(5)"
   ]
  },
  {
   "cell_type": "code",
   "execution_count": 204,
   "metadata": {},
   "outputs": [
    {
     "data": {
      "text/plain": [
       "KEY : 3   PARENT: 4"
      ]
     },
     "execution_count": 204,
     "metadata": {},
     "output_type": "execute_result"
    }
   ],
   "source": [
    "tree.root.right_child.left_child"
   ]
  },
  {
   "cell_type": "code",
   "execution_count": 50,
   "metadata": {},
   "outputs": [],
   "source": [
    "def call1():\n",
    "    return \"Hello\"\n",
    "\n",
    "def call2():\n",
    "    call1()"
   ]
  },
  {
   "cell_type": "code",
   "execution_count": 52,
   "metadata": {},
   "outputs": [],
   "source": [
    "call2()"
   ]
  },
  {
   "cell_type": "code",
   "execution_count": null,
   "metadata": {},
   "outputs": [],
   "source": []
  }
 ],
 "metadata": {
  "kernelspec": {
   "display_name": "Python 3",
   "language": "python",
   "name": "python3"
  },
  "language_info": {
   "codemirror_mode": {
    "name": "ipython",
    "version": 3
   },
   "file_extension": ".py",
   "mimetype": "text/x-python",
   "name": "python",
   "nbconvert_exporter": "python",
   "pygments_lexer": "ipython3",
   "version": "3.8.3"
  }
 },
 "nbformat": 4,
 "nbformat_minor": 4
}
