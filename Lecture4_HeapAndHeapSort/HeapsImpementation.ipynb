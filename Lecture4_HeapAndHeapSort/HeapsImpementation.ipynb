{
 "cells": [
  {
   "cell_type": "markdown",
   "metadata": {},
   "source": [
    "# Heaps and HeapSort"
   ]
  },
  {
   "cell_type": "markdown",
   "metadata": {},
   "source": [
    "#### Attempt 1\n",
    "#### Tried implementing the algorithm tottaly based on the lecture.<br> Also had to go through the lecture 2- 3 times because some concepts required thinking ahead , recursively and logrithmically.\n",
    "##### 1. Make Heapify:  the fundemental method of checking if at node i , is the sub tree a max heap or not. If not then make it.<br><br>Time complexity: O(log n)"
   ]
  },
  {
   "cell_type": "code",
   "execution_count": 153,
   "metadata": {},
   "outputs": [],
   "source": [
    "def max_heapify(A, i):\n",
    "    right_pos = 2*(i+1)\n",
    "    left_pos = 2*(i+1) -1\n",
    "    if left_pos >= len(A):\n",
    "        return\n",
    "    if A[i] < A[left_pos]:\n",
    "        if right_pos < len(A) and A[right_pos] > A[i] and A[right_pos] > A[left_pos]:\n",
    "            swap_pos=right_pos\n",
    "        else:\n",
    "            swap_pos=left_pos\n",
    "        temp = A[i]\n",
    "        A[i] = A[swap_pos]\n",
    "        A[swap_pos] = temp\n",
    "        max_heapify(A,swap_pos)"
   ]
  },
  {
   "cell_type": "code",
   "execution_count": 154,
   "metadata": {},
   "outputs": [],
   "source": [
    "x = [0,4,5,2,1,2,3]"
   ]
  },
  {
   "cell_type": "code",
   "execution_count": 155,
   "metadata": {},
   "outputs": [],
   "source": [
    "max_heapify(x,0)"
   ]
  },
  {
   "cell_type": "code",
   "execution_count": 156,
   "metadata": {},
   "outputs": [
    {
     "data": {
      "text/plain": [
       "[5, 4, 3, 2, 1, 2, 0]"
      ]
     },
     "execution_count": 156,
     "metadata": {},
     "output_type": "execute_result"
    }
   ],
   "source": [
    "x"
   ]
  },
  {
   "cell_type": "markdown",
   "metadata": {},
   "source": [
    "#### 2. Build Heap: Use max_heapify at each level ( one above the leaf level).<br><br>Time complexity: O(n) *Very good explanation in the lecture"
   ]
  },
  {
   "cell_type": "code",
   "execution_count": 157,
   "metadata": {},
   "outputs": [],
   "source": [
    "def buildHeap(A):\n",
    "    n = round(len(A)//2-1)\n",
    "    while n>=0:\n",
    "        max_heapify(A,n)\n",
    "        n-=1"
   ]
  },
  {
   "cell_type": "code",
   "execution_count": 151,
   "metadata": {},
   "outputs": [
    {
     "data": {
      "text/plain": [
       "3"
      ]
     },
     "execution_count": 151,
     "metadata": {},
     "output_type": "execute_result"
    }
   ],
   "source": [
    "19//5"
   ]
  },
  {
   "cell_type": "code",
   "execution_count": 158,
   "metadata": {},
   "outputs": [],
   "source": [
    "x = [0,1,2,3,4,5,6]"
   ]
  },
  {
   "cell_type": "code",
   "execution_count": 159,
   "metadata": {},
   "outputs": [],
   "source": [
    "buildHeap(x)"
   ]
  },
  {
   "cell_type": "code",
   "execution_count": 160,
   "metadata": {},
   "outputs": [
    {
     "data": {
      "text/plain": [
       "[6, 4, 5, 3, 1, 0, 2]"
      ]
     },
     "execution_count": 160,
     "metadata": {},
     "output_type": "execute_result"
    }
   ],
   "source": [
    "x"
   ]
  },
  {
   "cell_type": "markdown",
   "metadata": {},
   "source": [
    "#### 3. Heap Sort: Take the root node(maximum value), replace with last element. Extract last element and do a heapify on root. Keep doing this until heap is empty and extracted elements are strored in descending order.<br><br> Time Complexity : O(n logn)"
   ]
  },
  {
   "cell_type": "code",
   "execution_count": 161,
   "metadata": {},
   "outputs": [],
   "source": [
    "def heapsort(A):\n",
    "    sorted_arr = []\n",
    "    buildHeap(A)\n",
    "    while len(A) > 0:\n",
    "        if len(A) == 1:\n",
    "            sorted_arr.append(A[0])\n",
    "            break\n",
    "        else:\n",
    "            temp = A[0]\n",
    "            A[0]=A[-1]\n",
    "            A[-1]=temp\n",
    "            sorted_arr.append(A.pop())\n",
    "            max_heapify(A,0)\n",
    "    return sorted_arr"
   ]
  },
  {
   "cell_type": "code",
   "execution_count": 165,
   "metadata": {},
   "outputs": [],
   "source": [
    "x = [0,1,2,3,4,5,6]"
   ]
  },
  {
   "cell_type": "code",
   "execution_count": 166,
   "metadata": {},
   "outputs": [
    {
     "data": {
      "text/plain": [
       "[0, 1, 2, 3, 4, 5, 6]"
      ]
     },
     "execution_count": 166,
     "metadata": {},
     "output_type": "execute_result"
    }
   ],
   "source": [
    "x"
   ]
  },
  {
   "cell_type": "code",
   "execution_count": 167,
   "metadata": {},
   "outputs": [
    {
     "data": {
      "text/plain": [
       "[6, 5, 4, 3, 2, 1, 0]"
      ]
     },
     "execution_count": 167,
     "metadata": {},
     "output_type": "execute_result"
    }
   ],
   "source": [
    "heapsort(x)"
   ]
  },
  {
   "cell_type": "code",
   "execution_count": 121,
   "metadata": {},
   "outputs": [
    {
     "data": {
      "text/plain": [
       "[0]"
      ]
     },
     "execution_count": 121,
     "metadata": {},
     "output_type": "execute_result"
    }
   ],
   "source": [
    "x"
   ]
  },
  {
   "cell_type": "code",
   "execution_count": 92,
   "metadata": {},
   "outputs": [],
   "source": [
    "max_heapify(x,0)"
   ]
  },
  {
   "cell_type": "code",
   "execution_count": 93,
   "metadata": {},
   "outputs": [
    {
     "data": {
      "text/plain": [
       "[5, 4, 2, 3, 1, 0]"
      ]
     },
     "execution_count": 93,
     "metadata": {},
     "output_type": "execute_result"
    }
   ],
   "source": [
    "x"
   ]
  },
  {
   "cell_type": "code",
   "execution_count": 141,
   "metadata": {},
   "outputs": [
    {
     "data": {
      "text/plain": [
       "2.807354922057604"
      ]
     },
     "execution_count": 141,
     "metadata": {},
     "output_type": "execute_result"
    }
   ],
   "source": [
    "math.log2(7)"
   ]
  },
  {
   "cell_type": "markdown",
   "metadata": {},
   "source": [
    "### Heap Implementation"
   ]
  },
  {
   "cell_type": "code",
   "execution_count": 318,
   "metadata": {},
   "outputs": [],
   "source": [
    "class MaxHeap:\n",
    "    def __init__(self):\n",
    "        self.heap = [] \n",
    "    \n",
    "    def has_left_child(self, index):\n",
    "        return 2*(index+1) -1 < len(self.heap) \n",
    "    def has_right_child(self, index):\n",
    "        return  2*(index+1) < len(self.heap)\n",
    "    \n",
    "    def heapify(self,index):\n",
    "        right_pos = 2*(index+1)\n",
    "        left_pos = 2*(index+1) -1\n",
    "        swap_pos = None\n",
    "        if self.has_left_child(index) and self.heap[index] < self.heap[left_pos]:\n",
    "            swap_pos = left_pos\n",
    "        if self.has_right_child(index) and self.heap[index] < self.heap[right_pos] and self.heap[right_pos] > self.heap[left_pos]:            \n",
    "            swap_pos = right_pos\n",
    "        if swap_pos:\n",
    "            self.heap[index], self.heap[swap_pos] = self.heap[swap_pos], self.heap[index]\n",
    "            self.heapify(swap_pos)\n",
    "    \n",
    "    @staticmethod\n",
    "    def _getparentposition(i):\n",
    "        return math.floor((i-1)/2)\n",
    "    \n",
    "    def insert(self,element):\n",
    "        self.heap.append(element)\n",
    "        print(f\"running max_heapify on index {self._getparentposition(len(self.heap)-1)}\")\n",
    "        self.heapify(self._getparentposition(len(self.heap)-1))\n",
    "\n",
    "    def extract_max(self):\n",
    "        max_element = self.heap[0]\n",
    "        self.heap[0], self.heap[-1] = self.heap[-1], self.heap[0]\n",
    "        self.heapify(0)\n",
    "        return max_element\n",
    "    def get_max(self):\n",
    "        return self.heap[0]\n",
    "    \n",
    "    def get_heap(self):\n",
    "        return self.heap\n",
    "    def visualize_heap(self):\n",
    "        arr = self.heap\n",
    "        last_idx = len(arr)\n",
    "        start_idx = 2**math.floor(math.log2(len(arr)))-1\n",
    "        start_gap = \"\"\n",
    "        last_gap = \" \"\n",
    "        while start_idx >= 0:\n",
    "            #print(last_idx)\n",
    "            #print(start_idx)\n",
    "            print(start_gap,end=\"\")\n",
    "            for x in range(start_idx,last_idx):\n",
    "                print(arr[x],end=last_gap)\n",
    "            print('\\n')\n",
    "            if start_idx == 0:\n",
    "                break\n",
    "            start_idx,last_idx=math.floor(start_idx*0.5),start_idx\n",
    "            temp = last_gap\n",
    "            last_gap = 2*last_gap+\" \"\n",
    "            start_gap = temp\n",
    "        "
   ]
  },
  {
   "cell_type": "code",
   "execution_count": 319,
   "metadata": {},
   "outputs": [],
   "source": [
    "h = MaxHeap()"
   ]
  },
  {
   "cell_type": "code",
   "execution_count": 320,
   "metadata": {},
   "outputs": [
    {
     "name": "stdout",
     "output_type": "stream",
     "text": [
      "running max_heapify on index -1\n",
      "running max_heapify on index 0\n",
      "running max_heapify on index 0\n",
      "running max_heapify on index 1\n",
      "running max_heapify on index 1\n",
      "running max_heapify on index 2\n",
      "running max_heapify on index 2\n",
      "running max_heapify on index 3\n"
     ]
    }
   ],
   "source": [
    "for x in range(7,-1,-1):\n",
    "    h.insert(x)"
   ]
  },
  {
   "cell_type": "code",
   "execution_count": 321,
   "metadata": {},
   "outputs": [
    {
     "data": {
      "text/plain": [
       "[7, 6, 5, 4, 3, 2, 1, 0]"
      ]
     },
     "execution_count": 321,
     "metadata": {},
     "output_type": "execute_result"
    }
   ],
   "source": [
    "h.get_heap()"
   ]
  },
  {
   "cell_type": "code",
   "execution_count": 322,
   "metadata": {},
   "outputs": [
    {
     "name": "stdout",
     "output_type": "stream",
     "text": [
      "running max_heapify on index 3\n"
     ]
    }
   ],
   "source": [
    "h.insert(5)"
   ]
  },
  {
   "cell_type": "code",
   "execution_count": 323,
   "metadata": {},
   "outputs": [
    {
     "data": {
      "text/plain": [
       "[7, 6, 5, 5, 3, 2, 1, 0, 4]"
      ]
     },
     "execution_count": 323,
     "metadata": {},
     "output_type": "execute_result"
    }
   ],
   "source": [
    "h.get_heap()"
   ]
  },
  {
   "cell_type": "code",
   "execution_count": 324,
   "metadata": {},
   "outputs": [
    {
     "name": "stdout",
     "output_type": "stream",
     "text": [
      "running max_heapify on index 4\n"
     ]
    }
   ],
   "source": [
    "h.insert(4)"
   ]
  },
  {
   "cell_type": "code",
   "execution_count": 325,
   "metadata": {},
   "outputs": [
    {
     "data": {
      "text/plain": [
       "[7, 6, 5, 5, 4, 2, 1, 0, 4, 3]"
      ]
     },
     "execution_count": 325,
     "metadata": {},
     "output_type": "execute_result"
    }
   ],
   "source": [
    "h.get_heap()"
   ]
  },
  {
   "cell_type": "code",
   "execution_count": 326,
   "metadata": {},
   "outputs": [
    {
     "name": "stdout",
     "output_type": "stream",
     "text": [
      "0 4 3 \n",
      "\n",
      " 5   4   2   1   \n",
      "\n",
      "   6       5       \n",
      "\n",
      "       7               \n",
      "\n"
     ]
    }
   ],
   "source": [
    "h.visualize_heap()"
   ]
  },
  {
   "cell_type": "code",
   "execution_count": null,
   "metadata": {},
   "outputs": [],
   "source": []
  }
 ],
 "metadata": {
  "kernelspec": {
   "display_name": "Python 3",
   "language": "python",
   "name": "python3"
  },
  "language_info": {
   "codemirror_mode": {
    "name": "ipython",
    "version": 3
   },
   "file_extension": ".py",
   "mimetype": "text/x-python",
   "name": "python",
   "nbconvert_exporter": "python",
   "pygments_lexer": "ipython3",
   "version": "3.8.3"
  }
 },
 "nbformat": 4,
 "nbformat_minor": 4
}
