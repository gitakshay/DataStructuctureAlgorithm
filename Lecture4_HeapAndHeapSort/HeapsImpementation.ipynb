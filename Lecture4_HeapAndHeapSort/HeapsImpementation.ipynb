{
 "cells": [
  {
   "cell_type": "markdown",
   "metadata": {},
   "source": [
    "# Heaps and HeapSort"
   ]
  },
  {
   "cell_type": "markdown",
   "metadata": {},
   "source": [
    "#### Attempt 1\n",
    "#### Tried implementing the algorithm tottaly based on the lecture.<br> Also had to go through the lecture 2- 3 times because some concepts required thinking ahead , recursively and logrithmically.\n",
    "##### 1. Make Heapify:  the fundemental method of checking if at node i , the sub tree of i is a max heap or not. If not then make it.<br><br>Time complexity: O(log n)"
   ]
  },
  {
   "cell_type": "code",
   "execution_count": 153,
   "metadata": {},
   "outputs": [],
   "source": [
    "def max_heapify(A, i):\n",
    "    right_pos = 2*(i+1)\n",
    "    left_pos = 2*(i+1) -1\n",
    "    if left_pos >= len(A):\n",
    "        return\n",
    "    if A[i] < A[left_pos]:\n",
    "        if right_pos < len(A) and A[right_pos] > A[i] and A[right_pos] > A[left_pos]:\n",
    "            swap_pos=right_pos\n",
    "        else:\n",
    "            swap_pos=left_pos\n",
    "        temp = A[i]\n",
    "        A[i] = A[swap_pos]\n",
    "        A[swap_pos] = temp\n",
    "        max_heapify(A,swap_pos)"
   ]
  },
  {
   "cell_type": "code",
   "execution_count": 154,
   "metadata": {},
   "outputs": [],
   "source": [
    "x = [0,4,5,2,1,2,3]"
   ]
  },
  {
   "cell_type": "code",
   "execution_count": 155,
   "metadata": {},
   "outputs": [],
   "source": [
    "max_heapify(x,0)"
   ]
  },
  {
   "cell_type": "code",
   "execution_count": 156,
   "metadata": {},
   "outputs": [
    {
     "data": {
      "text/plain": [
       "[5, 4, 3, 2, 1, 2, 0]"
      ]
     },
     "execution_count": 156,
     "metadata": {},
     "output_type": "execute_result"
    }
   ],
   "source": [
    "x"
   ]
  },
  {
   "cell_type": "markdown",
   "metadata": {},
   "source": [
    "#### 2. Build Heap: Use max_heapify at each level ( one above the leaf level).<br><br>Time complexity: O(n) *Very good explanation in the lecture"
   ]
  },
  {
   "cell_type": "code",
   "execution_count": 157,
   "metadata": {},
   "outputs": [],
   "source": [
    "def buildHeap(A):\n",
    "    n =len(A)//2-1\n",
    "    while n>=0:\n",
    "        max_heapify(A,n)\n",
    "        n-=1"
   ]
  },
  {
   "cell_type": "code",
   "execution_count": 421,
   "metadata": {},
   "outputs": [
    {
     "data": {
      "text/plain": [
       "3"
      ]
     },
     "execution_count": 421,
     "metadata": {},
     "output_type": "execute_result"
    }
   ],
   "source": [
    "19//5"
   ]
  },
  {
   "cell_type": "code",
   "execution_count": 158,
   "metadata": {},
   "outputs": [],
   "source": [
    "x = [0,1,2,3,4,5,6]"
   ]
  },
  {
   "cell_type": "code",
   "execution_count": 159,
   "metadata": {},
   "outputs": [],
   "source": [
    "buildHeap(x)"
   ]
  },
  {
   "cell_type": "code",
   "execution_count": 160,
   "metadata": {},
   "outputs": [
    {
     "data": {
      "text/plain": [
       "[6, 4, 5, 3, 1, 0, 2]"
      ]
     },
     "execution_count": 160,
     "metadata": {},
     "output_type": "execute_result"
    }
   ],
   "source": [
    "x"
   ]
  },
  {
   "cell_type": "markdown",
   "metadata": {},
   "source": [
    "#### 3. Heap Sort: Take the root node(maximum value), replace with last element. Extract last element and do a heapify on root. Keep doing this until heap is empty and extracted elements are strored in descending order.<br><br> Time Complexity : O(n logn)"
   ]
  },
  {
   "cell_type": "code",
   "execution_count": 327,
   "metadata": {},
   "outputs": [],
   "source": [
    "def heapsort(A):\n",
    "    sorted_arr = []\n",
    "    buildHeap(A)\n",
    "    while len(A) > 0:\n",
    "        if len(A) == 1:\n",
    "            sorted_arr.append(A[0])\n",
    "            break\n",
    "        else:\n",
    "            temp = A[0]\n",
    "            A[0]=A[-1]\n",
    "            A[-1]=temp\n",
    "            sorted_arr.append(A.pop())\n",
    "            max_heapify(A,0)\n",
    "    return sorted_arr"
   ]
  },
  {
   "cell_type": "code",
   "execution_count": 328,
   "metadata": {},
   "outputs": [],
   "source": [
    "x = [0,1,2,3,4,5,6]"
   ]
  },
  {
   "cell_type": "code",
   "execution_count": 329,
   "metadata": {},
   "outputs": [
    {
     "data": {
      "text/plain": [
       "[0, 1, 2, 3, 4, 5, 6]"
      ]
     },
     "execution_count": 329,
     "metadata": {},
     "output_type": "execute_result"
    }
   ],
   "source": [
    "x"
   ]
  },
  {
   "cell_type": "code",
   "execution_count": 330,
   "metadata": {},
   "outputs": [
    {
     "data": {
      "text/plain": [
       "[6, 5, 4, 3, 2, 1, 0]"
      ]
     },
     "execution_count": 330,
     "metadata": {},
     "output_type": "execute_result"
    }
   ],
   "source": [
    "heapsort(x)"
   ]
  },
  {
   "cell_type": "markdown",
   "metadata": {},
   "source": [
    "### Heap Implementation"
   ]
  },
  {
   "cell_type": "code",
   "execution_count": 508,
   "metadata": {},
   "outputs": [],
   "source": [
    "class MaxHeap:\n",
    "    def __init__(self):\n",
    "        self.heap = [] \n",
    "    \n",
    "    def has_left_child(self, index):\n",
    "        return 2*(index+1) -1 < len(self.heap) \n",
    "    def has_right_child(self, index):\n",
    "        return  2*(index+1) < len(self.heap)\n",
    "    \n",
    "    def heapify(self,index):\n",
    "        # Need to better asthetics than this\n",
    "        right_pos = 2*(index+1)\n",
    "        left_pos = 2*(index+1) -1\n",
    "        swap_pos = None\n",
    "        if self.has_left_child(index) and self.heap[index] < self.heap[left_pos]:\n",
    "            swap_pos = left_pos\n",
    "        if self.has_right_child(index) and self.heap[index] < self.heap[right_pos] and self.heap[right_pos] > self.heap[left_pos]:            \n",
    "            swap_pos = right_pos\n",
    "        if swap_pos:\n",
    "            print(f\"swapping {swap_pos} with {index}\")\n",
    "            self.heap[index], self.heap[swap_pos] = self.heap[swap_pos], self.heap[index]\n",
    "            self.heapify(swap_pos)\n",
    "    \n",
    "    @staticmethod\n",
    "    def _getparentposition(i):\n",
    "        return (i-1)//2\n",
    "    \n",
    "    def insert(self,element):\n",
    "        self.heap.append(element)\n",
    "        # WRONG IMPLEMENTEATION self.heapify(self._getparentposition(len(self.heap)-1))\n",
    "        current = len(self.heap)-1\n",
    "        while self.heap[current] > self.heap[current//2]:\n",
    "            self.heap[current], self.heap[current//2] = self.heap[current//2], self.heap[current]\n",
    "            current = current//2\n",
    "\n",
    "    def extract_max(self):\n",
    "        max_element = self.heap[0]\n",
    "        self.heap[0], self.heap[-1] = self.heap[-1], self.heap[0]\n",
    "        self.heapify(0)\n",
    "        return max_element\n",
    "    def get_max(self):\n",
    "        return self.heap[0]\n",
    "    \n",
    "    def get_heap(self):\n",
    "        return self.heap\n",
    "    def visualize_heap(self):\n",
    "        # Not completed : still working on it\n",
    "        arr = self.heap\n",
    "        last_idx = len(arr)\n",
    "        start_idx = 2**math.floor(math.log2(len(arr)))-1\n",
    "        start_gap = \"\"\n",
    "        last_gap = \" \"\n",
    "        visual = \"\"\n",
    "        while start_idx >= 0:\n",
    "            this_line = start_gap\n",
    "            for x in range(start_idx, last_idx):\n",
    "                this_line+=str(arr[x])+last_gap\n",
    "            this_line=\"\\n\"+this_line\n",
    "            visual=this_line+visual\n",
    "            if start_idx == 0:\n",
    "                break\n",
    "            start_idx,last_idx=math.floor(start_idx*0.5),start_idx\n",
    "            temp = last_gap\n",
    "            last_gap = 2*last_gap+\" \"\n",
    "            start_gap = temp\n",
    "        print(visual)"
   ]
  },
  {
   "cell_type": "code",
   "execution_count": 509,
   "metadata": {},
   "outputs": [],
   "source": [
    "h = MaxHeap()"
   ]
  },
  {
   "cell_type": "code",
   "execution_count": 510,
   "metadata": {},
   "outputs": [],
   "source": [
    "for x in range(7,-1,-1):\n",
    "    h.insert(x)"
   ]
  },
  {
   "cell_type": "code",
   "execution_count": 511,
   "metadata": {},
   "outputs": [
    {
     "name": "stdout",
     "output_type": "stream",
     "text": [
      "\n",
      "       7               \n",
      "   6       5       \n",
      " 4   3   2   1   \n",
      "0 \n"
     ]
    }
   ],
   "source": [
    "h.get_heap()\n",
    "h.visualize_heap()"
   ]
  },
  {
   "cell_type": "code",
   "execution_count": 512,
   "metadata": {},
   "outputs": [],
   "source": [
    "h.insert(20)"
   ]
  },
  {
   "cell_type": "code",
   "execution_count": 513,
   "metadata": {},
   "outputs": [
    {
     "data": {
      "text/plain": [
       "[20, 7, 6, 4, 5, 2, 1, 0, 3]"
      ]
     },
     "execution_count": 513,
     "metadata": {},
     "output_type": "execute_result"
    }
   ],
   "source": [
    "h.get_heap()"
   ]
  },
  {
   "cell_type": "code",
   "execution_count": 514,
   "metadata": {},
   "outputs": [
    {
     "name": "stdout",
     "output_type": "stream",
     "text": [
      "\n",
      "       20               \n",
      "   7       6       \n",
      " 4   5   2   1   \n",
      "0 3 \n"
     ]
    }
   ],
   "source": [
    "h.visualize_heap()"
   ]
  },
  {
   "cell_type": "code",
   "execution_count": 505,
   "metadata": {},
   "outputs": [],
   "source": [
    "h.insert(4)"
   ]
  },
  {
   "cell_type": "code",
   "execution_count": 506,
   "metadata": {},
   "outputs": [
    {
     "data": {
      "text/plain": [
       "[20, 7, 6, 4, 5, 2, 1, 0, 3, 4]"
      ]
     },
     "execution_count": 506,
     "metadata": {},
     "output_type": "execute_result"
    }
   ],
   "source": [
    "h.get_heap()"
   ]
  },
  {
   "cell_type": "code",
   "execution_count": 507,
   "metadata": {},
   "outputs": [
    {
     "name": "stdout",
     "output_type": "stream",
     "text": [
      "\n",
      "       20               \n",
      "   7       6       \n",
      " 4   5   2   1   \n",
      "0 3 4 \n"
     ]
    }
   ],
   "source": [
    "h.visualize_heap()"
   ]
  },
  {
   "cell_type": "code",
   "execution_count": null,
   "metadata": {},
   "outputs": [],
   "source": []
  }
 ],
 "metadata": {
  "kernelspec": {
   "display_name": "Python 3",
   "language": "python",
   "name": "python3"
  },
  "language_info": {
   "codemirror_mode": {
    "name": "ipython",
    "version": 3
   },
   "file_extension": ".py",
   "mimetype": "text/x-python",
   "name": "python",
   "nbconvert_exporter": "python",
   "pygments_lexer": "ipython3",
   "version": "3.8.3"
  }
 },
 "nbformat": 4,
 "nbformat_minor": 4
}
