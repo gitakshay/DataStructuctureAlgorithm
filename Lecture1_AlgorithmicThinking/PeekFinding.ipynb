{
 "cells": [
  {
   "cell_type": "markdown",
   "metadata": {},
   "source": [
    "# Peek Finding 1 Dimension"
   ]
  },
  {
   "cell_type": "code",
   "execution_count": 1,
   "metadata": {},
   "outputs": [],
   "source": [
    "from random import randint\n",
    "import time"
   ]
  },
  {
   "cell_type": "code",
   "execution_count": 2,
   "metadata": {},
   "outputs": [],
   "source": [
    "arr = [x for x in range(2)]"
   ]
  },
  {
   "cell_type": "code",
   "execution_count": 3,
   "metadata": {},
   "outputs": [],
   "source": [
    "def findapeekgreedy(arr):\n",
    "    for x in range(len(arr)):\n",
    "        if x>0 and x<(len(arr)-1):\n",
    "            if arr[x]>= arr[x+1] and arr[x] >= arr[x-1]:\n",
    "                print(f\"Peak found at index {x} with value {arr[x]}\")\n",
    "                return\n",
    "        elif x==0 and arr[x]>=arr[x+1]:\n",
    "            print(f\"Peak found at index {x} with value {arr[x]}\")\n",
    "            return\n",
    "        else:\n",
    "            if arr[x] >= arr[x-1]:\n",
    "                print(f\"Peak found at index {x} with value {arr[x]}\")\n",
    "                return\n",
    "                \n",
    "        "
   ]
  },
  {
   "cell_type": "code",
   "execution_count": 5,
   "metadata": {},
   "outputs": [],
   "source": [
    "def findapeek(arr,low,high,n):\n",
    "    mid = int((low + high)/2)\n",
    "    if (mid==0 and arr[mid]>=arr[mid+1]) or (mid==n-1 and arr[mid]>=arr[mid-1]):\n",
    "        print(f\"Peak is at the index {mid} with value {arr[mid]}\")\n",
    "        return\n",
    "    elif mid!=0 and mid!=n-1 and arr[mid] >= arr[mid+1] and arr[mid] >= arr[mid-1]:\n",
    "        print(f\"Peak is at the index {mid} with value {arr[mid]}\")\n",
    "        return\n",
    "    elif arr[mid] <= arr[mid+1]:\n",
    "        findapeek(arr,mid+1,high,n)\n",
    "    elif arr[mid] <= arr[mid-1]:\n",
    "        findapeek(arr,low,mid-1,n)"
   ]
  },
  {
   "cell_type": "code",
   "execution_count": 21,
   "metadata": {},
   "outputs": [],
   "source": [
    "arr=[x for x in range(100000)]"
   ]
  },
  {
   "cell_type": "code",
   "execution_count": 39,
   "metadata": {},
   "outputs": [
    {
     "name": "stdout",
     "output_type": "stream",
     "text": [
      "Peak is at the index 99999 with value 99999\n",
      "Performance of divide and conquer: 1.749216999996861 \n"
     ]
    }
   ],
   "source": [
    "# Performance analysis of divide and conquer algorithm\n",
    "# Time comlexity O(log n)\n",
    "start = time.perf_counter()\n",
    "findapeek(arr,0,len(arr)-1,len(arr))\n",
    "end = time.perf_counter()\n",
    "print(f\"Performance of divide and conquer: {(end-start)*1000} \")"
   ]
  },
  {
   "cell_type": "code",
   "execution_count": 41,
   "metadata": {},
   "outputs": [
    {
     "name": "stdout",
     "output_type": "stream",
     "text": [
      "Peak found at index 99999 with value 99999\n",
      "Performance of greedy algorithm: 41.415926000127 \n"
     ]
    }
   ],
   "source": [
    "# Performance analysis of greedy algorithm\n",
    "# Time comlexity O(n)\n",
    "start = time.perf_counter()\n",
    "findapeekgreedy(arr)\n",
    "end = time.perf_counter()\n",
    "print(f\"Performance of greedy algorithm: {(end-start)*1000} \")\n"
   ]
  },
  {
   "cell_type": "code",
   "execution_count": 25,
   "metadata": {},
   "outputs": [],
   "source": [
    "#TODO: Peek finding in 2 dimension"
   ]
  },
  {
   "cell_type": "code",
   "execution_count": null,
   "metadata": {},
   "outputs": [],
   "source": []
  }
 ],
 "metadata": {
  "kernelspec": {
   "display_name": "Python 3",
   "language": "python",
   "name": "python3"
  },
  "language_info": {
   "codemirror_mode": {
    "name": "ipython",
    "version": 3
   },
   "file_extension": ".py",
   "mimetype": "text/x-python",
   "name": "python",
   "nbconvert_exporter": "python",
   "pygments_lexer": "ipython3",
   "version": "3.8.3"
  }
 },
 "nbformat": 4,
 "nbformat_minor": 4
}
