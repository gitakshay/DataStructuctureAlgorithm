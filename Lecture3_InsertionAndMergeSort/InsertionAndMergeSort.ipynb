{
 "cells": [
  {
   "cell_type": "markdown",
   "metadata": {},
   "source": [
    "# Sorting Alogrithm : Part 1"
   ]
  },
  {
   "cell_type": "markdown",
   "metadata": {},
   "source": [
    "## 1. Bubble Sort\n",
    "### Tried the challenge on hacker rank\n",
    "#### https://www.hackerrank.com/challenges/mark-and-toys?h_l=interview&playlist_slugs%5B%5D=interview-preparation-kit&playlist_slugs%5B%5D=sorting"
   ]
  },
  {
   "cell_type": "code",
   "execution_count": 2,
   "metadata": {},
   "outputs": [],
   "source": [
    "def countSwaps(a):\n",
    "    counts=0\n",
    "    while True:\n",
    "        stopcheck,pos = 0,0\n",
    "        while pos != len(a)-1:\n",
    "            if a[pos] > a[pos+1]:\n",
    "                temp=a[pos]\n",
    "                a[pos]=a[pos+1]\n",
    "                a[pos+1]=temp\n",
    "                counts+=1\n",
    "                stopcheck+=1\n",
    "            pos+=1\n",
    "        if stopcheck == 0:\n",
    "            break\n",
    "    print(f\"Array is sorted in {counts} swaps.\")\n",
    "    print(f\"First Element: {a[0]}\")\n",
    "    print(f\"Last Element: {a[-1]}\")"
   ]
  },
  {
   "cell_type": "code",
   "execution_count": 3,
   "metadata": {},
   "outputs": [
    {
     "name": "stdout",
     "output_type": "stream",
     "text": [
      "Array is sorted in 10 swaps.\n",
      "First Element: 1\n",
      "Last Element: 9\n"
     ]
    }
   ],
   "source": [
    "countSwaps([9,8,2,1,3,5])"
   ]
  },
  {
   "cell_type": "markdown",
   "metadata": {},
   "source": [
    "## 2. Insertion Sort\n",
    "### Simpe insertion sort implementation"
   ]
  },
  {
   "cell_type": "code",
   "execution_count": 132,
   "metadata": {},
   "outputs": [],
   "source": [
    "def insertion_sort(A):\n",
    "    for i in range(0,len(A)-1):\n",
    "        if A[i] > A[i+1]:\n",
    "            A[i],A[i+1]=A[i+1],A[i]\n",
    "            j=i\n",
    "            for j in range(j,0,-1):\n",
    "                if A[j-1] > A[j]:\n",
    "                    A[j-1],A[j]=A[j],A[j-1]\n",
    "    print(A)"
   ]
  },
  {
   "cell_type": "code",
   "execution_count": 133,
   "metadata": {},
   "outputs": [
    {
     "name": "stdout",
     "output_type": "stream",
     "text": [
      "[-1, 1, 2, 2, 3, 5, 7, 12]\n"
     ]
    }
   ],
   "source": [
    "x = [12,3,2,1,7,-1,2,5]\n",
    "insertion_sort(x)"
   ]
  },
  {
   "cell_type": "markdown",
   "metadata": {},
   "source": [
    "### Binary Insertion sort implementation\n",
    "#### Trying to better the search part of the above implementation by using binary search.\n",
    "#### However, since the shifting of the element once correct position of an element is identified is still done by shifting the elements via swaps.\n",
    "#### Hence the overall big O still remains O(n^2) "
   ]
  },
  {
   "cell_type": "code",
   "execution_count": 143,
   "metadata": {},
   "outputs": [],
   "source": [
    "# Binary search for finding the position where an element should go.\n",
    "def binary_search(A,val,start,end):\n",
    "    print(f\"Start: {start} End:{end}\")\n",
    "    if end-start < 1:\n",
    "        if val >= A[start]:\n",
    "            return start+1\n",
    "        else:\n",
    "            return start\n",
    "    mid=start+((end-start)//2)\n",
    "    print(f\"Mid: {mid}\")\n",
    "    if val >= A[mid]:\n",
    "        pos = binary_search(A,val,mid+1,end)\n",
    "    else:\n",
    "        pos = binary_search(A,val,start,mid-1)\n",
    "    return pos"
   ]
  },
  {
   "cell_type": "code",
   "execution_count": 144,
   "metadata": {},
   "outputs": [],
   "source": [
    "x=[1,4,8,10,12]"
   ]
  },
  {
   "cell_type": "code",
   "execution_count": 145,
   "metadata": {},
   "outputs": [
    {
     "name": "stdout",
     "output_type": "stream",
     "text": [
      "Start: 0 End:4\n",
      "Mid: 2\n",
      "Start: 0 End:1\n",
      "Mid: 0\n",
      "Start: 0 End:-1\n"
     ]
    },
    {
     "data": {
      "text/plain": [
       "0"
      ]
     },
     "execution_count": 145,
     "metadata": {},
     "output_type": "execute_result"
    }
   ],
   "source": [
    "binary_search(x,0,0,len(x)-1)"
   ]
  },
  {
   "cell_type": "code",
   "execution_count": 149,
   "metadata": {},
   "outputs": [],
   "source": [
    "# Driver code for Binary Insertion Sort\n",
    "def binary_insertion_sort(A):\n",
    "    start=0\n",
    "    for i in range(1,len(A)):\n",
    "        pos = binary_search(A,A[i],0,i)\n",
    "        print(f\"Position acquired for element {A[i]}: {pos}\")\n",
    "        print(f\"Array Value: {A}\")\n",
    "        for j in range(i,pos,-1):\n",
    "            print(f\"swapping {A[j],A[j-1]}\")\n",
    "            A[j],A[j-1] = A[j-1],A[j]\n",
    "            print(f\"Array Value: {A}\")\n",
    "    return A"
   ]
  },
  {
   "cell_type": "code",
   "execution_count": 150,
   "metadata": {},
   "outputs": [
    {
     "name": "stdout",
     "output_type": "stream",
     "text": [
      "Start: 0 End:1\n",
      "Mid: 0\n",
      "Start: 1 End:1\n",
      "Position acquired for element 4: 2\n",
      "Array Value: [1, 4, 8, 10, 12]\n",
      "Start: 0 End:2\n",
      "Mid: 1\n",
      "Start: 2 End:2\n",
      "Position acquired for element 8: 3\n",
      "Array Value: [1, 4, 8, 10, 12]\n",
      "Start: 0 End:3\n",
      "Mid: 1\n",
      "Start: 2 End:3\n",
      "Mid: 2\n",
      "Start: 3 End:3\n",
      "Position acquired for element 10: 4\n",
      "Array Value: [1, 4, 8, 10, 12]\n",
      "Start: 0 End:4\n",
      "Mid: 2\n",
      "Start: 3 End:4\n",
      "Mid: 3\n",
      "Start: 4 End:4\n",
      "Position acquired for element 12: 5\n",
      "Array Value: [1, 4, 8, 10, 12]\n"
     ]
    },
    {
     "data": {
      "text/plain": [
       "[1, 4, 8, 10, 12]"
      ]
     },
     "execution_count": 150,
     "metadata": {},
     "output_type": "execute_result"
    }
   ],
   "source": [
    "binary_insertion_sort([1,4,8,10,12])"
   ]
  },
  {
   "cell_type": "code",
   "execution_count": 148,
   "metadata": {},
   "outputs": [
    {
     "name": "stdout",
     "output_type": "stream",
     "text": [
      "[1, 2, 3, 4, 5, 6, 7]\n"
     ]
    }
   ],
   "source": [
    "insertion_sort([7,6,5,4,3,2,1])"
   ]
  },
  {
   "cell_type": "markdown",
   "metadata": {},
   "source": [
    "## 3. Merge Sort\n",
    "### Attempted to do it without any reference only based on the video explanation. Once completed, I checked online if I did it right or not. Turns out I was wrong(or did it little differently). Still I'll save this because it's what I did and to calculate the big O of this algorithm. Plus I'm not scared of my failures anymore !!\n",
    "#### Initial Attempt"
   ]
  },
  {
   "cell_type": "code",
   "execution_count": 151,
   "metadata": {},
   "outputs": [],
   "source": [
    "# This method I made for merging two sorted arrays \n",
    "def merge_sort(a,b):\n",
    "    pos_a = 0\n",
    "    pos_b = 0\n",
    "    result = []\n",
    "    while len(result) != len(a+b):\n",
    "        if pos_a == len(a) and pos_b < len(b):\n",
    "            result.append(b[pos_b])\n",
    "            pos_b+=1\n",
    "        elif pos_b == len(b) and pos_a < len(a):\n",
    "            result.append(a[pos_a])\n",
    "            pos_a+=1\n",
    "        elif a[pos_a] <= b[pos_b]:\n",
    "            result.append(a[pos_a])\n",
    "            pos_a+=1\n",
    "        else:\n",
    "            result.append(b[pos_b])\n",
    "            pos_b+=1\n",
    "    return result\n",
    "\n",
    "# This method was the main wrapper method two stich the two sorted arrays back to single sorted array\n",
    "# Also this  method takes list of list <-- And this is precisly where I screwd up\n",
    "# the beauty of the original algo was in the split process and I missed that in this implementation.\n",
    "def merge(unsort_list):\n",
    "    pos=0\n",
    "    semiresult=[]\n",
    "    while pos < len(unsort_list):\n",
    "        if pos+1 == len(unsort_list):\n",
    "            semiresult.append(unsort_list[pos])\n",
    "        else:\n",
    "            semiresult.append(merge_sort(unsort_list[pos],unsort_list[pos+1]))\n",
    "        pos+=2\n",
    "    if len(semiresult) == 1:\n",
    "        return semiresult[0]\n",
    "    else:\n",
    "        return merge(semiresult)"
   ]
  },
  {
   "cell_type": "code",
   "execution_count": 153,
   "metadata": {},
   "outputs": [],
   "source": [
    "from random import randint"
   ]
  },
  {
   "cell_type": "code",
   "execution_count": 154,
   "metadata": {},
   "outputs": [],
   "source": [
    "unsorted = [[randint(0,100)] for _ in range(10) ]"
   ]
  },
  {
   "cell_type": "code",
   "execution_count": 155,
   "metadata": {},
   "outputs": [
    {
     "data": {
      "text/plain": [
       "[[69], [76], [23], [24], [84], [91], [82], [57], [80], [51]]"
      ]
     },
     "execution_count": 155,
     "metadata": {},
     "output_type": "execute_result"
    }
   ],
   "source": [
    "unsorted"
   ]
  },
  {
   "cell_type": "code",
   "execution_count": 156,
   "metadata": {},
   "outputs": [
    {
     "data": {
      "text/plain": [
       "[23, 24, 51, 57, 69, 76, 80, 82, 84, 91]"
      ]
     },
     "execution_count": 156,
     "metadata": {},
     "output_type": "execute_result"
    }
   ],
   "source": [
    "merge(unsorted)"
   ]
  },
  {
   "cell_type": "code",
   "execution_count": null,
   "metadata": {},
   "outputs": [],
   "source": []
  }
 ],
 "metadata": {
  "kernelspec": {
   "display_name": "Python 3",
   "language": "python",
   "name": "python3"
  },
  "language_info": {
   "codemirror_mode": {
    "name": "ipython",
    "version": 3
   },
   "file_extension": ".py",
   "mimetype": "text/x-python",
   "name": "python",
   "nbconvert_exporter": "python",
   "pygments_lexer": "ipython3",
   "version": "3.8.3"
  }
 },
 "nbformat": 4,
 "nbformat_minor": 4
}
