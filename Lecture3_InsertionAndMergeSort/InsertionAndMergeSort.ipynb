{
 "cells": [
  {
   "cell_type": "markdown",
   "metadata": {},
   "source": [
    "# Sorting Alogrithm : Part 1"
   ]
  },
  {
   "cell_type": "markdown",
   "metadata": {},
   "source": [
    "## 1. Bubble Sort\n",
    "### Tried the challenge on hacker rank\n",
    "#### https://www.hackerrank.com/challenges/mark-and-toys?h_l=interview&playlist_slugs%5B%5D=interview-preparation-kit&playlist_slugs%5B%5D=sorting"
   ]
  },
  {
   "cell_type": "code",
   "execution_count": 2,
   "metadata": {},
   "outputs": [],
   "source": [
    "def countSwaps(a):\n",
    "    counts=0\n",
    "    while True:\n",
    "        stopcheck,pos = 0,0\n",
    "        while pos != len(a)-1:\n",
    "            if a[pos] > a[pos+1]:\n",
    "                temp=a[pos]\n",
    "                a[pos]=a[pos+1]\n",
    "                a[pos+1]=temp\n",
    "                counts+=1\n",
    "                stopcheck+=1\n",
    "            pos+=1\n",
    "        if stopcheck == 0:\n",
    "            break\n",
    "    print(f\"Array is sorted in {counts} swaps.\")\n",
    "    print(f\"First Element: {a[0]}\")\n",
    "    print(f\"Last Element: {a[-1]}\")"
   ]
  },
  {
   "cell_type": "code",
   "execution_count": 3,
   "metadata": {},
   "outputs": [
    {
     "name": "stdout",
     "output_type": "stream",
     "text": [
      "Array is sorted in 10 swaps.\n",
      "First Element: 1\n",
      "Last Element: 9\n"
     ]
    }
   ],
   "source": [
    "countSwaps([9,8,2,1,3,5])"
   ]
  },
  {
   "cell_type": "markdown",
   "metadata": {},
   "source": [
    "## 2. Merge Sort\n",
    "### Attempted to do it without any reference only based on the video explanation. Once completed, I checked online if I did it right or not. Turns out I was wrong(or did it little differently). Still I'll save this because it's what I did and to calculate the big O of this algorithm. Plus I'm not scared of my failures anymore !!\n",
    "#### Initial Attempt"
   ]
  },
  {
   "cell_type": "code",
   "execution_count": 5,
   "metadata": {},
   "outputs": [],
   "source": [
    "# This method I made for merging two sorted arrays \n",
    "def merge_sort(a,b):\n",
    "    pos_a = 0\n",
    "    pos_b = 0\n",
    "    result = []\n",
    "    while len(result) != len(a+b):\n",
    "        if pos_a == len(a) and pos_b < len(b):\n",
    "            result.append(b[pos_b])\n",
    "            pos_b+=1\n",
    "        elif pos_b == len(b) and pos_a < len(a):\n",
    "            result.append(a[pos_a])\n",
    "            pos_a+=1\n",
    "        elif a[pos_a] <= b[pos_b]:\n",
    "            result.append(a[pos_a])\n",
    "            pos_a+=1\n",
    "        else:\n",
    "            result.append(b[pos_b])\n",
    "            pos_b+=1\n",
    "    return result\n",
    "\n",
    "# This method was the main wrapper method two stich the two sorted arrays back to single sorted array\n",
    "# Also this  method takes list of list <-- And this is precisly where I screwd up\n",
    "# the beauty of the original algo was in the split process and I missed that in this implementation.\n",
    "def merge(unsort_list):\n",
    "    pos=0\n",
    "    semiresult=[]\n",
    "    while pos < len(unsort_list):\n",
    "        if pos+1 == len(unsort_list):\n",
    "            semiresult.append(unsort_list[pos])\n",
    "        else:\n",
    "            semiresult.append(merge_sort(unsort_list[pos],unsort_list[pos+1]))\n",
    "        pos+=2\n",
    "    if len(semiresult) == 1:\n",
    "        return semiresult[0]\n",
    "    else:\n",
    "        return merge(semiresult)"
   ]
  },
  {
   "cell_type": "code",
   "execution_count": 6,
   "metadata": {},
   "outputs": [],
   "source": [
    "from random import randint"
   ]
  },
  {
   "cell_type": "code",
   "execution_count": 7,
   "metadata": {},
   "outputs": [],
   "source": [
    "unsorted = [[randint(0,100)] for _ in range(10) ]"
   ]
  },
  {
   "cell_type": "code",
   "execution_count": 9,
   "metadata": {},
   "outputs": [
    {
     "data": {
      "text/plain": [
       "[[40], [42], [29], [15], [50], [19], [92], [47], [7], [22]]"
      ]
     },
     "execution_count": 9,
     "metadata": {},
     "output_type": "execute_result"
    }
   ],
   "source": [
    "unsorted"
   ]
  },
  {
   "cell_type": "code",
   "execution_count": 8,
   "metadata": {},
   "outputs": [
    {
     "data": {
      "text/plain": [
       "[7, 15, 19, 22, 29, 40, 42, 47, 50, 92]"
      ]
     },
     "execution_count": 8,
     "metadata": {},
     "output_type": "execute_result"
    }
   ],
   "source": [
    "merge(unsorted)"
   ]
  },
  {
   "cell_type": "code",
   "execution_count": null,
   "metadata": {},
   "outputs": [],
   "source": []
  }
 ],
 "metadata": {
  "kernelspec": {
   "display_name": "Python 3",
   "language": "python",
   "name": "python3"
  },
  "language_info": {
   "codemirror_mode": {
    "name": "ipython",
    "version": 3
   },
   "file_extension": ".py",
   "mimetype": "text/x-python",
   "name": "python",
   "nbconvert_exporter": "python",
   "pygments_lexer": "ipython3",
   "version": "3.8.3"
  }
 },
 "nbformat": 4,
 "nbformat_minor": 4
}
