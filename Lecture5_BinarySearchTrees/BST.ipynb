{
 "cells": [
  {
   "cell_type": "markdown",
   "metadata": {},
   "source": [
    "# Binary Search Tree"
   ]
  },
  {
   "cell_type": "markdown",
   "metadata": {},
   "source": [
    "#### Tried implementing the algorithm. The basic variant(constraints) of this data structure are simple(if you can think recursively it helps). <br>However, when augmentation(extra ask like rank) is added it takes some time to change the implementation logic of initial basic operation such as insert."
   ]
  },
  {
   "cell_type": "code",
   "execution_count": 1,
   "metadata": {},
   "outputs": [],
   "source": [
    "class Node:\n",
    "    \"\"\"\n",
    "    Single Node\n",
    "    \"\"\"\n",
    "    def __init__(self,value,right_child=None, left_child=None, size=1):\n",
    "        self.value = value\n",
    "        self.right_child = right_child\n",
    "        self.left_child = left_child\n",
    "        self.size = size\n",
    "    \n",
    "    def __repr__(self):\n",
    "        return str(f\"\\n Value :{self.value}  \\t left child:[ {self.left_child} ] \\t right child:[ {self.right_child} ]\")"
   ]
  },
  {
   "cell_type": "code",
   "execution_count": 74,
   "metadata": {},
   "outputs": [],
   "source": [
    "class BST:\n",
    "    \"\"\"\n",
    "    Binary Search Tree Data Structure\n",
    "    \"\"\"\n",
    "    def __init__(self):\n",
    "        self.root = None\n",
    "    def get_max(self, comp_node=None):\n",
    "        # Get Maximum Elemnt --> go right all the way till end\n",
    "        # Time complexity O(n) \n",
    "        if self.root is None:\n",
    "            raise Exception(\"Tree is empty.\")\n",
    "        if comp_node is None:\n",
    "            comp_node=self.root\n",
    "        \n",
    "        \n",
    "        if comp_node.right_child:\n",
    "            max_val = self.get_max(comp_node.right_child)\n",
    "        else:\n",
    "            return comp_node.value\n",
    "        return max_val\n",
    "        \n",
    "    def get_min(self,comp_node=None):\n",
    "        # Get minimum --> go left all the way till end\\\n",
    "        # Time complexity O(n)\n",
    "        if self.root is None:\n",
    "            raise Exception(\"Tree is empty.\")\n",
    "        if comp_node is None:\n",
    "            comp_node=self.root\n",
    "            \n",
    "        if comp_node.left_child:\n",
    "            min_val = self.get_min(comp_node.left_child)\n",
    "        else:\n",
    "            return comp_node.value\n",
    "        \n",
    "        return min_val\n",
    "    \n",
    "    def next_larger(self):\n",
    "        # find the next largest element\n",
    "        pass\n",
    "\n",
    "    def node_count(self):\n",
    "        if self.root:\n",
    "            return self.root.size\n",
    "        else:\n",
    "            return 0\n",
    "    \n",
    "    def get_rank(self, element, comp_node=None,rank=0):\n",
    "        # This method tells how many nodes in the tree are less than or equal to \n",
    "        # any requested value. Very good explanation in the lecture.\n",
    "        # Get Maximum Elemnt --> go right all the way till end\n",
    "        # Time complexity O(n)\n",
    "        if self.root is None:\n",
    "            raise Exception(\"Tree is empty.\")\n",
    "        if comp_node is None:\n",
    "            comp_node = self.root\n",
    "        if element >= comp_node.value:\n",
    "            rank+=1\n",
    "            if comp_node.left_child:\n",
    "                rank+=comp_node.left_child.size\n",
    "            if comp_node.right_child:\n",
    "                rank = self.get_rank(element, comp_node.right_child, rank)\n",
    "        else:\n",
    "            if comp_node.left_child: \n",
    "                rank = self.get_rank(element, comp_node.left_child, rank)\n",
    "        return rank\n",
    "\n",
    "    def insert(self, element, comp_node=None):\n",
    "        # To insert a element in this tree you traverse from root , find the location add it to \n",
    "        # the parent node (left or right child). Also, update the size of each traversed node\n",
    "        # if the insertion is valid ,else not required.\n",
    "        # Time complexity O(n)\n",
    "        if self.root is None:\n",
    "            new_node = Node(element)\n",
    "            self.root = new_node\n",
    "            return\n",
    "        \n",
    "        if comp_node is None:\n",
    "            comp_node=self.root\n",
    "        \n",
    "        if element > comp_node.value:\n",
    "            if comp_node.right_child:\n",
    "                if not self.insert(element, comp_node.right_child):\n",
    "                    return False\n",
    "                else:\n",
    "                    comp_node.size+=1\n",
    "            else:\n",
    "                comp_node.right_child = Node(element)\n",
    "                comp_node.size+=1\n",
    "        elif element < comp_node.value:\n",
    "            if comp_node.left_child:\n",
    "                if not self.insert(element, comp_node.left_child):\n",
    "                    return False\n",
    "                else:\n",
    "                    comp_node.size+=1\n",
    "            else:\n",
    "                comp_node.left_child = Node(element)\n",
    "                comp_node.size+=1\n",
    "        else:\n",
    "            print(\"Binary Search Tree rule violation: Duplicate entry\")\n",
    "            return False\n",
    "        return True"
   ]
  },
  {
   "cell_type": "markdown",
   "metadata": {},
   "source": [
    "#### If you see insert,get rank, getmax et al. has time complexity of O(n) , actually they have complexity of O(h) where h is the height of tree. Unlike heap where height of the tree is log(n) +1 , here in the worst case scenerio the length can be n. Because you can keep adding larger and larger elements or smaller and smaller elements. To tackle this we have AVLs in next lecture, which are balanced binary search trees. "
   ]
  },
  {
   "cell_type": "code",
   "execution_count": 67,
   "metadata": {},
   "outputs": [],
   "source": [
    "bs = BST()"
   ]
  },
  {
   "cell_type": "code",
   "execution_count": 68,
   "metadata": {},
   "outputs": [],
   "source": [
    "bs.root"
   ]
  },
  {
   "cell_type": "code",
   "execution_count": 69,
   "metadata": {},
   "outputs": [
    {
     "data": {
      "text/plain": [
       "True"
      ]
     },
     "execution_count": 69,
     "metadata": {},
     "output_type": "execute_result"
    }
   ],
   "source": [
    "bs.insert(30)\n",
    "bs.insert(40)\n",
    "bs.insert(20)\n",
    "bs.insert(10)\n",
    "bs.insert(16)\n",
    "bs.insert(34)\n",
    "bs.insert(50)"
   ]
  },
  {
   "cell_type": "code",
   "execution_count": 70,
   "metadata": {},
   "outputs": [
    {
     "data": {
      "text/plain": [
       "7"
      ]
     },
     "execution_count": 70,
     "metadata": {},
     "output_type": "execute_result"
    }
   ],
   "source": [
    "bs.node_count()"
   ]
  },
  {
   "cell_type": "code",
   "execution_count": 71,
   "metadata": {},
   "outputs": [
    {
     "data": {
      "text/plain": [
       "3"
      ]
     },
     "execution_count": 71,
     "metadata": {},
     "output_type": "execute_result"
    }
   ],
   "source": [
    "bs.get_rank(20)"
   ]
  },
  {
   "cell_type": "code",
   "execution_count": 72,
   "metadata": {},
   "outputs": [
    {
     "data": {
      "text/plain": [
       "50"
      ]
     },
     "execution_count": 72,
     "metadata": {},
     "output_type": "execute_result"
    }
   ],
   "source": [
    "bs.get_max()"
   ]
  },
  {
   "cell_type": "code",
   "execution_count": 73,
   "metadata": {},
   "outputs": [
    {
     "data": {
      "text/plain": [
       "10"
      ]
     },
     "execution_count": 73,
     "metadata": {},
     "output_type": "execute_result"
    }
   ],
   "source": [
    "bs.get_min()"
   ]
  },
  {
   "cell_type": "code",
   "execution_count": null,
   "metadata": {},
   "outputs": [],
   "source": []
  }
 ],
 "metadata": {
  "kernelspec": {
   "display_name": "Python 3",
   "language": "python",
   "name": "python3"
  },
  "language_info": {
   "codemirror_mode": {
    "name": "ipython",
    "version": 3
   },
   "file_extension": ".py",
   "mimetype": "text/x-python",
   "name": "python",
   "nbconvert_exporter": "python",
   "pygments_lexer": "ipython3",
   "version": "3.8.3"
  }
 },
 "nbformat": 4,
 "nbformat_minor": 4
}
