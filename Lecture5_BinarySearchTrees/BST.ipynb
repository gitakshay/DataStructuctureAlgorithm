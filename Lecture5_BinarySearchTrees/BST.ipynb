{
 "cells": [
  {
   "cell_type": "markdown",
   "metadata": {},
   "source": [
    "# Binary Search Tree"
   ]
  },
  {
   "cell_type": "markdown",
   "metadata": {},
   "source": [
    "#### Tried implementing the algorithm. The basic variant(constraints) of this data structure are simple(if you can think recursively it helps). <br>However, when augmentation(extra ask like rank) is added it takes some time to change the implementation logic of initial basic operation such as insert.\n",
    "\n",
    "\n",
    "#### Initial Attempt"
   ]
  },
  {
   "cell_type": "code",
   "execution_count": 1,
   "metadata": {},
   "outputs": [],
   "source": [
    "class BstNode:\n",
    "    \n",
    "    def __init__(self,key,parent=None,left_child=None,right_child=None):\n",
    "        self.key=key\n",
    "        self.parent = parent\n",
    "        self.left_child = left_child\n",
    "        self.right_child = right_child\n",
    "    def __repr__(self):\n",
    "        show = f\"KEY : {self.key} \"\n",
    "        if self.parent:\n",
    "            show+=f\"  PARENT: {self.parent.key}\"\n",
    "        if self.left_child:\n",
    "            show+=f\"  LEFT CHILD: {self.left_child.key}\"\n",
    "        if self.right_child:\n",
    "            show+=f\"  RIGHT CHILD: {self.right_child.key}\"\n",
    "        \n",
    "        \n",
    "        return show\n",
    "    \n",
    "    def next_larger(self):\n",
    "        \"\"\"Returns the node with the next larger key (the successor) in the BST.\n",
    "        \"\"\"\n",
    "        if self.right_child is not None:\n",
    "            return self.right_child.find_min()\n",
    "        current = self\n",
    "        # if you are on the right to someone and dont have any children, you will be the largest \n",
    "        # unless your ancestor were left to someone , then you can never be bigger then ancestor's parent\n",
    "        while current.parent is not None and current is current.parent.right_child:\n",
    "            current = current.parent\n",
    "        return current.parent\n",
    "    \n",
    "    def find(self, element):\n",
    "        if self.key == element:\n",
    "            return self\n",
    "        elif element > self.key:\n",
    "            if self.right_child:\n",
    "                return self.right_child.find(element)\n",
    "            else:\n",
    "                return\n",
    "        else :\n",
    "            if self.left_child:\n",
    "                return self.left_child.find(element)\n",
    "            else:\n",
    "                return\n",
    "\n",
    "    def find_max(self):\n",
    "        if self.right_child:\n",
    "            return self.right_child.find_max()\n",
    "        else:\n",
    "            return self\n",
    "    \n",
    "    def find_min(self):\n",
    "        if self.left_child:\n",
    "            return self.left_child.find_min()\n",
    "        else:\n",
    "            return self\n",
    "    \n",
    "    def insert(self, node):\n",
    "        if node.key > self.key:\n",
    "            if self.right_child:\n",
    "                self.right_child.insert(node)\n",
    "            else:\n",
    "                node.parent = self\n",
    "                self.right_child = node\n",
    "        elif node.key < self.key:\n",
    "            if self.left_child:\n",
    "                self.left_child.insert(node)\n",
    "            else:\n",
    "                node.parent = self\n",
    "                self.left_child = node\n",
    "        else:\n",
    "            raise Exception(\"Bst Invariance rule violated!!\")\n",
    "    \n",
    "    def delete(self):\n",
    "        \"\"\"\n",
    "        if v is a leaf\n",
    "\n",
    "          delete leaf v\n",
    "\n",
    "        else if v has 1 child\n",
    "\n",
    "          bypass v\n",
    "\n",
    "        else replace v with successor\n",
    "        \"\"\"\n",
    "        if self.left_child is None or self.right_child is None:\n",
    "            #if self.parent is None:\n",
    "            #    self = self.left_child or self.right_child\n",
    "            #    self.parent = None\n",
    "            #    print(self.key)\n",
    "            #    return \"Deleted root\"\n",
    "            if self is self.parent.left_child:\n",
    "                self.parent.left_child = self.left_child or self.right_child\n",
    "                if self.parent.left_child is not None:\n",
    "                    self.parent.left_child.parent = self.parent\n",
    "            else:\n",
    "                self.parent.right_child = self.left_child or self.right_child\n",
    "                if self.parent.right_child is not None:\n",
    "                    self.parent.right_child.parent = self.parent\n",
    "            return self\n",
    "        else:\n",
    "            s = self.next_larger()\n",
    "            s.key , self.key = self.key, s.key\n",
    "            return s.delete()\n",
    "    \n",
    "    def check_ri(self):\n",
    "    \n",
    "        if self.left_child:\n",
    "            if self.left_child.key > self.key:\n",
    "                raise Exception(\"BST ri violated\")\n",
    "            else:\n",
    "                self.left_child.check_ri()\n",
    "        if self.right_child:\n",
    "            if self.right_child.key < self.key:\n",
    "                raise Exception(\"BST ri violated\")\n",
    "            else:\n",
    "                self.right_child.check_ri()\n",
    "        else:\n",
    "            return"
   ]
  },
  {
   "cell_type": "code",
   "execution_count": 74,
   "metadata": {},
   "outputs": [],
   "source": [
    "class Bst:\n",
    "    \n",
    "    def __init__(self):\n",
    "        self.root = None\n",
    "    def insert(self,element):\n",
    "        node = BstNode(element)\n",
    "        if self.root is None:\n",
    "            self.root = node\n",
    "        else:\n",
    "            self.root.insert(node)\n",
    "        return node\n",
    "    def find(self,element):\n",
    "        if self.root:\n",
    "            return self.root.find(element)\n",
    "    def find_min(self):\n",
    "        if self.root:\n",
    "            return self.root.find_min()\n",
    "    def find_max(self):\n",
    "        if self.root:\n",
    "            return self.root.find_max()\n",
    "    def delete(self,element):\n",
    "        node = self.find(element)\n",
    "        if node is None:\n",
    "            return None\n",
    "        if node is self.root:\n",
    "            # This is done to deal with a special case for when the root has only one child.\n",
    "            # We create a pseudo node and attach the root to its left and attaches pseudo as root's parent.\n",
    "            # We then delete the root node. But since BST root's is still pointed at deleted root.\n",
    "            # But now the child of older root has become the new root, we no longer require this\n",
    "            # pseudo root.We detach it from the new root.\n",
    "            pseudonode = BstNode(0,None,self.root)\n",
    "            self.root.parent = pseudonode\n",
    "            deleted = self.root.delete()\n",
    "            self.root = pseudonode.left_child\n",
    "            if self.root is not None:\n",
    "                self.root.parent = None\n",
    "            return deleted\n",
    "        else:\n",
    "            return node.delete()\n",
    "    def check_ri(self):\n",
    "        if self.root:\n",
    "            self.root.check_ri()\n",
    "    "
   ]
  },
  {
   "cell_type": "markdown",
   "metadata": {},
   "source": [
    "#### If you see insert,get rank, getmax et al. has time complexity of O(n) , actually they have complexity of O(h) where h is the height of tree. Unlike heap where height of the tree is log(n) +1 , here in the worst case scenerio the length can be n. Because you can keep adding larger and larger elements or smaller and smaller elements. To tackle this we have AVLs in next lecture, which are balanced binary search trees. "
   ]
  },
  {
   "cell_type": "code",
   "execution_count": 75,
   "metadata": {},
   "outputs": [],
   "source": [
    "bs = BST()"
   ]
  },
  {
   "cell_type": "code",
   "execution_count": 76,
   "metadata": {},
   "outputs": [],
   "source": [
    "bs.root"
   ]
  },
  {
   "cell_type": "code",
   "execution_count": 77,
   "metadata": {},
   "outputs": [
    {
     "data": {
      "text/plain": [
       "True"
      ]
     },
     "execution_count": 77,
     "metadata": {},
     "output_type": "execute_result"
    }
   ],
   "source": [
    "bs.insert(30)\n",
    "bs.insert(40)\n",
    "bs.insert(20)\n",
    "bs.insert(10)\n",
    "bs.insert(16)\n",
    "bs.insert(34)\n",
    "bs.insert(50)"
   ]
  },
  {
   "cell_type": "code",
   "execution_count": 78,
   "metadata": {},
   "outputs": [
    {
     "data": {
      "text/plain": [
       "7"
      ]
     },
     "execution_count": 78,
     "metadata": {},
     "output_type": "execute_result"
    }
   ],
   "source": [
    "bs.node_count()"
   ]
  },
  {
   "cell_type": "code",
   "execution_count": 79,
   "metadata": {},
   "outputs": [
    {
     "data": {
      "text/plain": [
       "3"
      ]
     },
     "execution_count": 79,
     "metadata": {},
     "output_type": "execute_result"
    }
   ],
   "source": [
    "bs.get_rank(20)"
   ]
  },
  {
   "cell_type": "code",
   "execution_count": 80,
   "metadata": {},
   "outputs": [
    {
     "data": {
      "text/plain": [
       "50"
      ]
     },
     "execution_count": 80,
     "metadata": {},
     "output_type": "execute_result"
    }
   ],
   "source": [
    "bs.get_max()"
   ]
  },
  {
   "cell_type": "code",
   "execution_count": 73,
   "metadata": {},
   "outputs": [
    {
     "data": {
      "text/plain": [
       "10"
      ]
     },
     "execution_count": 73,
     "metadata": {},
     "output_type": "execute_result"
    }
   ],
   "source": [
    "bs.get_min()"
   ]
  },
  {
   "cell_type": "code",
   "execution_count": 85,
   "metadata": {},
   "outputs": [
    {
     "data": {
      "text/plain": [
       "5"
      ]
     },
     "execution_count": 85,
     "metadata": {},
     "output_type": "execute_result"
    }
   ],
   "source": [
    "None or 5"
   ]
  },
  {
   "cell_type": "code",
   "execution_count": null,
   "metadata": {},
   "outputs": [],
   "source": []
  }
 ],
 "metadata": {
  "kernelspec": {
   "display_name": "Python 3",
   "language": "python",
   "name": "python3"
  },
  "language_info": {
   "codemirror_mode": {
    "name": "ipython",
    "version": 3
   },
   "file_extension": ".py",
   "mimetype": "text/x-python",
   "name": "python",
   "nbconvert_exporter": "python",
   "pygments_lexer": "ipython3",
   "version": "3.8.3"
  }
 },
 "nbformat": 4,
 "nbformat_minor": 4
}
